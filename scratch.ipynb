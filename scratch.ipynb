{
 "cells": [
  {
   "cell_type": "code",
   "execution_count": 2,
   "metadata": {},
   "outputs": [],
   "source": [
    "import requests, os, pandas as pd, matplotlib.pyplot as plt, seaborn as sns"
   ]
  },
  {
   "cell_type": "code",
   "execution_count": 3,
   "metadata": {},
   "outputs": [
    {
     "name": "stdout",
     "output_type": "stream",
     "text": [
      "      actiontype               actiondate  treeid supervisordistrict  \\\n",
      "0    Posted 24hr  2021-01-21T00:00:00.000  211149                  7   \n",
      "1  Posted 15 Day  2019-07-31T00:00:00.000  181629                  4   \n",
      "2  Posted 30 Day  2019-02-27T00:00:00.000  258047                  3   \n",
      "3  Posted 15 Day  2018-08-07T00:00:00.000  220035                  8   \n",
      "4  Posted 15 Day  2018-10-15T00:00:00.000  223798                  8   \n",
      "\n",
      "  addressno                                   altdescription  \\\n",
      "0       100  Terrace Dr  :  Santa Clara Ave  -  Terrace Walk   \n",
      "1      1298           24th Ave  :  Lincoln Way  -  Irving St   \n",
      "2      1250       Columbus Ave  :  Bay St  -  North Point St   \n",
      "3      1711        Castro St  :  26th St  -  Cesar Chavez St   \n",
      "4       250            States St  :  Castro St  -  Levant St   \n",
      "\n",
      "        legalstatus ownername siteorder              locsite  ...  \\\n",
      "0  Significant Tree   Private         8  Sidewalk, Curb side  ...   \n",
      "1    DPW Maintained   Private         1  Sidewalk, Curb side  ...   \n",
      "2      Undocumented   Private         3  Sidewalk, Curb side  ...   \n",
      "3    DPW Maintained   Private         1  Sidewalk, Curb side  ...   \n",
      "4    DPW Maintained   Private         1           Front Yard  ...   \n",
      "\n",
      "               x              y                 lat                 long  \\\n",
      "0   5993545.6652  2096759.54622    37.7369538633472  -122.46473384936183   \n",
      "1   5988658.9816    2106523.539   37.76426780294347  -122.48254854321944   \n",
      "2        6007719        2121534  37.805573496919926   -122.4178034232645   \n",
      "3  6002636.34581  2100467.82106   37.74769673972955  -122.43373319458752   \n",
      "4  6000691.89745  2106604.60917   37.76345149285314  -122.43897720740101   \n",
      "\n",
      "                                               point  \\\n",
      "0  {'type': 'Point', 'coordinates': [-122.465, 37...   \n",
      "1  {'type': 'Point', 'coordinates': [-122.483, 37...   \n",
      "2  {'type': 'Point', 'coordinates': [-122.418, 37...   \n",
      "3  {'type': 'Point', 'coordinates': [-122.434, 37...   \n",
      "4  {'type': 'Point', 'coordinates': [-122.439, 37...   \n",
      "\n",
      "  :@computed_region_jwn9_ihcz :@computed_region_6qbp_sg9q  \\\n",
      "0                         116                         116   \n",
      "1                          39                          39   \n",
      "2                          99                          99   \n",
      "3                          84                          84   \n",
      "4                         113                         113   \n",
      "\n",
      "  :@computed_region_qgnn_b9vv :@computed_region_26cr_cadq  \\\n",
      "0                          10                           8   \n",
      "1                          10                           7   \n",
      "2                           6                           6   \n",
      "3                           3                           5   \n",
      "4                           7                           5   \n",
      "\n",
      "  :@computed_region_ajp5_b2md  \n",
      "0                          41  \n",
      "1                          35  \n",
      "2                          32  \n",
      "3                          22  \n",
      "4                           5  \n",
      "\n",
      "[5 rows x 25 columns]\n"
     ]
    }
   ],
   "source": [
    "request = requests.get('https://data.sfgov.org/resource/qrwx-q4gg.json?$limit=500000')\n",
    "data = request.json()\n",
    "df = pd.DataFrame(data)\n",
    "print(df.head())"
   ]
  },
  {
   "cell_type": "code",
   "execution_count": 4,
   "metadata": {},
   "outputs": [
    {
     "name": "stdout",
     "output_type": "stream",
     "text": [
      "legalstatus\n",
      "DPW Maintained                     4705\n",
      "Landmark tree                         6\n",
      "Permitted Site                       84\n",
      "Planning Code 138.1 required          8\n",
      "Private                               5\n",
      "Property Tree                         4\n",
      "Prune Opt Out                         5\n",
      "Section 806 (d)                      32\n",
      "Significant Tree                    227\n",
      "Street Tree Maintenance Opt Out       4\n",
      "Undocumented                        126\n",
      "dtype: int64\n"
     ]
    }
   ],
   "source": [
    "by_tree_status = df.groupby('legalstatus').size()\n",
    "print(by_tree_status)"
   ]
  },
  {
   "cell_type": "code",
   "execution_count": null,
   "metadata": {},
   "outputs": [],
   "source": [
    "by_district = df.groupby('supervisordistrict').size()\n",
    "print(by_district)"
   ]
  }
 ],
 "metadata": {
  "kernelspec": {
   "display_name": "Python 3",
   "language": "python",
   "name": "python3"
  },
  "language_info": {
   "codemirror_mode": {
    "name": "ipython",
    "version": 3
   },
   "file_extension": ".py",
   "mimetype": "text/x-python",
   "name": "python",
   "nbconvert_exporter": "python",
   "pygments_lexer": "ipython3",
   "version": "3.11.9"
  }
 },
 "nbformat": 4,
 "nbformat_minor": 2
}
